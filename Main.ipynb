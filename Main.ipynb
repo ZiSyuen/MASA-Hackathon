{
          "cells": [
                    {
                              "cell_type": "markdown",
                              "metadata": {},
                              "source": [
                                        "# MASA Hackathon 2022"
                              ]
                    },
                    {
                              "cell_type": "markdown",
                              "metadata": {},
                              "source": [
                                        "## Load Library"
                              ]
                    },
                    {
                              "cell_type": "code",
                              "execution_count": 24,
                              "metadata": {},
                              "outputs": [],
                              "source": [
                                        "# Import library\n",
                                        "import pandas as pd\n",
                                        "import numpy as np\n",
                                        "import matplotlib.pyplot as plt\n",
                                        "from collections import Counter\n",
                                        "import seaborn as sns\n",
                                        "from sklearn import datasets, linear_model, metrics\n",
                                        "from sklearn.metrics import accuracy_score\n",
                                        "from sklearn.preprocessing import OneHotEncoder, LabelEncoder\n",
                                        "from sklearn.model_selection import train_test_split\n",
                                        "from sklearn.model_selection import cross_val_score\n",
                                        "from sklearn.linear_model import LogisticRegression\n",
                                        "from sklearn.linear_model import SGDClassifier"
                              ]
                    },
                    {
                              "cell_type": "code",
                              "execution_count": 25,
                              "metadata": {},
                              "outputs": [],
                              "source": [
                                        "# Format code to pep8 standard\n",
                                        "# Type in terminal: autopep8 --in-place -a -a Testing01.ipynb"
                              ]
                    },
                    {
                              "cell_type": "markdown",
                              "metadata": {},
                              "source": [
                                        "## Sprint 0: Understanding the Data Set"
                              ]
                    },
                    {
                              "cell_type": "code",
                              "execution_count": 26,
                              "metadata": {},
                              "outputs": [],
                              "source": [
                                        "# Read data\n",
                                        "df = pd.read_csv('Dataset/Travel Insurance.csv')"
                              ]
                    },
                    {
                              "cell_type": "code",
                              "execution_count": 27,
                              "metadata": {},
                              "outputs": [
                                        {
                                                  "data": {
                                                            "text/html": [
                                                                      "<div>\n",
                                                                      "<style scoped>\n",
                                                                      "    .dataframe tbody tr th:only-of-type {\n",
                                                                      "        vertical-align: middle;\n",
                                                                      "    }\n",
                                                                      "\n",
                                                                      "    .dataframe tbody tr th {\n",
                                                                      "        vertical-align: top;\n",
                                                                      "    }\n",
                                                                      "\n",
                                                                      "    .dataframe thead th {\n",
                                                                      "        text-align: right;\n",
                                                                      "    }\n",
                                                                      "</style>\n",
                                                                      "<table border=\"1\" class=\"dataframe\">\n",
                                                                      "  <thead>\n",
                                                                      "    <tr style=\"text-align: right;\">\n",
                                                                      "      <th></th>\n",
                                                                      "      <th>Agency</th>\n",
                                                                      "      <th>AgencyType</th>\n",
                                                                      "      <th>DistributionChannel</th>\n",
                                                                      "      <th>ProductName</th>\n",
                                                                      "      <th>Claim</th>\n",
                                                                      "      <th>Duration</th>\n",
                                                                      "      <th>Destination</th>\n",
                                                                      "      <th>NetSales</th>\n",
                                                                      "      <th>Commission</th>\n",
                                                                      "      <th>Gender</th>\n",
                                                                      "      <th>Age</th>\n",
                                                                      "    </tr>\n",
                                                                      "  </thead>\n",
                                                                      "  <tbody>\n",
                                                                      "    <tr>\n",
                                                                      "      <th>0</th>\n",
                                                                      "      <td>CBH</td>\n",
                                                                      "      <td>Travel Agency</td>\n",
                                                                      "      <td>Offline</td>\n",
                                                                      "      <td>Comprehensive Plan</td>\n",
                                                                      "      <td>No</td>\n",
                                                                      "      <td>186</td>\n",
                                                                      "      <td>MALAYSIA</td>\n",
                                                                      "      <td>-29.0</td>\n",
                                                                      "      <td>9.57</td>\n",
                                                                      "      <td>F</td>\n",
                                                                      "      <td>81</td>\n",
                                                                      "    </tr>\n",
                                                                      "    <tr>\n",
                                                                      "      <th>1</th>\n",
                                                                      "      <td>CBH</td>\n",
                                                                      "      <td>Travel Agency</td>\n",
                                                                      "      <td>Offline</td>\n",
                                                                      "      <td>Comprehensive Plan</td>\n",
                                                                      "      <td>No</td>\n",
                                                                      "      <td>186</td>\n",
                                                                      "      <td>MALAYSIA</td>\n",
                                                                      "      <td>-29.0</td>\n",
                                                                      "      <td>9.57</td>\n",
                                                                      "      <td>F</td>\n",
                                                                      "      <td>71</td>\n",
                                                                      "    </tr>\n",
                                                                      "    <tr>\n",
                                                                      "      <th>2</th>\n",
                                                                      "      <td>CWT</td>\n",
                                                                      "      <td>Travel Agency</td>\n",
                                                                      "      <td>Online</td>\n",
                                                                      "      <td>Rental Vehicle Excess Insurance</td>\n",
                                                                      "      <td>No</td>\n",
                                                                      "      <td>65</td>\n",
                                                                      "      <td>AUSTRALIA</td>\n",
                                                                      "      <td>-49.5</td>\n",
                                                                      "      <td>29.70</td>\n",
                                                                      "      <td>NaN</td>\n",
                                                                      "      <td>32</td>\n",
                                                                      "    </tr>\n",
                                                                      "    <tr>\n",
                                                                      "      <th>3</th>\n",
                                                                      "      <td>CWT</td>\n",
                                                                      "      <td>Travel Agency</td>\n",
                                                                      "      <td>Online</td>\n",
                                                                      "      <td>Rental Vehicle Excess Insurance</td>\n",
                                                                      "      <td>No</td>\n",
                                                                      "      <td>60</td>\n",
                                                                      "      <td>AUSTRALIA</td>\n",
                                                                      "      <td>-39.6</td>\n",
                                                                      "      <td>23.76</td>\n",
                                                                      "      <td>NaN</td>\n",
                                                                      "      <td>32</td>\n",
                                                                      "    </tr>\n",
                                                                      "    <tr>\n",
                                                                      "      <th>4</th>\n",
                                                                      "      <td>CWT</td>\n",
                                                                      "      <td>Travel Agency</td>\n",
                                                                      "      <td>Online</td>\n",
                                                                      "      <td>Rental Vehicle Excess Insurance</td>\n",
                                                                      "      <td>No</td>\n",
                                                                      "      <td>79</td>\n",
                                                                      "      <td>ITALY</td>\n",
                                                                      "      <td>-19.8</td>\n",
                                                                      "      <td>11.88</td>\n",
                                                                      "      <td>NaN</td>\n",
                                                                      "      <td>41</td>\n",
                                                                      "    </tr>\n",
                                                                      "  </tbody>\n",
                                                                      "</table>\n",
                                                                      "</div>"
                                                            ],
                                                            "text/plain": [
                                                                      "  Agency     AgencyType DistributionChannel                      ProductName  \\\n",
                                                                      "0    CBH  Travel Agency             Offline               Comprehensive Plan   \n",
                                                                      "1    CBH  Travel Agency             Offline               Comprehensive Plan   \n",
                                                                      "2    CWT  Travel Agency              Online  Rental Vehicle Excess Insurance   \n",
                                                                      "3    CWT  Travel Agency              Online  Rental Vehicle Excess Insurance   \n",
                                                                      "4    CWT  Travel Agency              Online  Rental Vehicle Excess Insurance   \n",
                                                                      "\n",
                                                                      "  Claim  Duration Destination  NetSales  Commission Gender  Age  \n",
                                                                      "0    No       186    MALAYSIA     -29.0        9.57      F   81  \n",
                                                                      "1    No       186    MALAYSIA     -29.0        9.57      F   71  \n",
                                                                      "2    No        65   AUSTRALIA     -49.5       29.70    NaN   32  \n",
                                                                      "3    No        60   AUSTRALIA     -39.6       23.76    NaN   32  \n",
                                                                      "4    No        79       ITALY     -19.8       11.88    NaN   41  "
                                                            ]
                                                  },
                                                  "execution_count": 27,
                                                  "metadata": {},
                                                  "output_type": "execute_result"
                                        }
                              ],
                              "source": [
                                        "# First five rows of the data\n",
                                        "df.head()\n"
                              ]
                    },
                    {
                              "cell_type": "code",
                              "execution_count": 28,
                              "metadata": {},
                              "outputs": [
                                        {
                                                  "name": "stdout",
                                                  "output_type": "stream",
                                                  "text": [
                                                            "Data info:\n",
                                                            "Total number of rows = 63326      \n",
                                                            "Total number of columns = 11\n",
                                                            "Total number of variables =  11\n"
                                                  ]
                                        }
                              ],
                              "source": [
                                        "# Data info\n",
                                        "datainfo = df.shape\n",
                                        "print(\"Data info:\\nTotal number of rows = {}  \\\n",
                                        "    \\nTotal number of columns = {}\".format(datainfo[0], datainfo[1]))\n",
                                        "\n",
                                        "datainfo2 = df.columns\n",
                                        "print('Total number of variables = ',len(datainfo2))"
                              ]
                    },
                    {
                              "cell_type": "code",
                              "execution_count": 29,
                              "metadata": {},
                              "outputs": [
                                        {
                                                  "data": {
                                                            "text/html": [
                                                                      "<div>\n",
                                                                      "<style scoped>\n",
                                                                      "    .dataframe tbody tr th:only-of-type {\n",
                                                                      "        vertical-align: middle;\n",
                                                                      "    }\n",
                                                                      "\n",
                                                                      "    .dataframe tbody tr th {\n",
                                                                      "        vertical-align: top;\n",
                                                                      "    }\n",
                                                                      "\n",
                                                                      "    .dataframe thead th {\n",
                                                                      "        text-align: right;\n",
                                                                      "    }\n",
                                                                      "</style>\n",
                                                                      "<table border=\"1\" class=\"dataframe\">\n",
                                                                      "  <thead>\n",
                                                                      "    <tr style=\"text-align: right;\">\n",
                                                                      "      <th></th>\n",
                                                                      "      <th>count</th>\n",
                                                                      "      <th>mean</th>\n",
                                                                      "      <th>std</th>\n",
                                                                      "      <th>min</th>\n",
                                                                      "      <th>25%</th>\n",
                                                                      "      <th>50%</th>\n",
                                                                      "      <th>75%</th>\n",
                                                                      "      <th>max</th>\n",
                                                                      "    </tr>\n",
                                                                      "  </thead>\n",
                                                                      "  <tbody>\n",
                                                                      "    <tr>\n",
                                                                      "      <th>Duration</th>\n",
                                                                      "      <td>63326.0</td>\n",
                                                                      "      <td>49.317074</td>\n",
                                                                      "      <td>101.791566</td>\n",
                                                                      "      <td>-2.0</td>\n",
                                                                      "      <td>9.0</td>\n",
                                                                      "      <td>22.00</td>\n",
                                                                      "      <td>53.00</td>\n",
                                                                      "      <td>4881.0</td>\n",
                                                                      "    </tr>\n",
                                                                      "    <tr>\n",
                                                                      "      <th>NetSales</th>\n",
                                                                      "      <td>63326.0</td>\n",
                                                                      "      <td>40.702018</td>\n",
                                                                      "      <td>48.845637</td>\n",
                                                                      "      <td>-389.0</td>\n",
                                                                      "      <td>18.0</td>\n",
                                                                      "      <td>26.53</td>\n",
                                                                      "      <td>48.00</td>\n",
                                                                      "      <td>810.0</td>\n",
                                                                      "    </tr>\n",
                                                                      "    <tr>\n",
                                                                      "      <th>Commission</th>\n",
                                                                      "      <td>63326.0</td>\n",
                                                                      "      <td>9.809992</td>\n",
                                                                      "      <td>19.804388</td>\n",
                                                                      "      <td>0.0</td>\n",
                                                                      "      <td>0.0</td>\n",
                                                                      "      <td>0.00</td>\n",
                                                                      "      <td>11.55</td>\n",
                                                                      "      <td>283.5</td>\n",
                                                                      "    </tr>\n",
                                                                      "    <tr>\n",
                                                                      "      <th>Age</th>\n",
                                                                      "      <td>63326.0</td>\n",
                                                                      "      <td>39.969981</td>\n",
                                                                      "      <td>14.017010</td>\n",
                                                                      "      <td>0.0</td>\n",
                                                                      "      <td>35.0</td>\n",
                                                                      "      <td>36.00</td>\n",
                                                                      "      <td>43.00</td>\n",
                                                                      "      <td>118.0</td>\n",
                                                                      "    </tr>\n",
                                                                      "  </tbody>\n",
                                                                      "</table>\n",
                                                                      "</div>"
                                                            ],
                                                            "text/plain": [
                                                                      "              count       mean         std    min   25%    50%    75%     max\n",
                                                                      "Duration    63326.0  49.317074  101.791566   -2.0   9.0  22.00  53.00  4881.0\n",
                                                                      "NetSales    63326.0  40.702018   48.845637 -389.0  18.0  26.53  48.00   810.0\n",
                                                                      "Commission  63326.0   9.809992   19.804388    0.0   0.0   0.00  11.55   283.5\n",
                                                                      "Age         63326.0  39.969981   14.017010    0.0  35.0  36.00  43.00   118.0"
                                                            ]
                                                  },
                                                  "execution_count": 29,
                                                  "metadata": {},
                                                  "output_type": "execute_result"
                                        }
                              ],
                              "source": [
                                        "# Numerical data info\n",
                                        "df.describe().T"
                              ]
                    },
                    {
                              "cell_type": "code",
                              "execution_count": 30,
                              "metadata": {},
                              "outputs": [
                                        {
                                                  "name": "stdout",
                                                  "output_type": "stream",
                                                  "text": [
                                                            "<class 'pandas.core.frame.DataFrame'>\n",
                                                            "RangeIndex: 63326 entries, 0 to 63325\n",
                                                            "Data columns (total 11 columns):\n",
                                                            " #   Column               Non-Null Count  Dtype  \n",
                                                            "---  ------               --------------  -----  \n",
                                                            " 0   Agency               63326 non-null  object \n",
                                                            " 1   AgencyType           63326 non-null  object \n",
                                                            " 2   DistributionChannel  63326 non-null  object \n",
                                                            " 3   ProductName          63326 non-null  object \n",
                                                            " 4   Claim                63326 non-null  object \n",
                                                            " 5   Duration             63326 non-null  int64  \n",
                                                            " 6   Destination          63326 non-null  object \n",
                                                            " 7   NetSales             63326 non-null  float64\n",
                                                            " 8   Commission           63326 non-null  float64\n",
                                                            " 9   Gender               18219 non-null  object \n",
                                                            " 10  Age                  63326 non-null  int64  \n",
                                                            "dtypes: float64(2), int64(2), object(7)\n",
                                                            "memory usage: 5.3+ MB\n"
                                                  ]
                                        }
                              ],
                              "source": [
                                        "# The count and data type of each column\n",
                                        "df.info()"
                              ]
                    },
                    {
                              "cell_type": "code",
                              "execution_count": 31,
                              "metadata": {},
                              "outputs": [
                                        {
                                                  "data": {
                                                            "text/plain": [
                                                                      "Index(['Agency', 'AgencyType', 'DistributionChannel', 'ProductName', 'Claim',\n",
                                                                      "       'Duration', 'Destination', 'NetSales', 'Commission', 'Gender', 'Age'],\n",
                                                                      "      dtype='object')"
                                                            ]
                                                  },
                                                  "execution_count": 31,
                                                  "metadata": {},
                                                  "output_type": "execute_result"
                                        }
                              ],
                              "source": [
                                        "df.columns"
                              ]
                    },
                    {
                              "cell_type": "code",
                              "execution_count": 32,
                              "metadata": {},
                              "outputs": [
                                        {
                                                  "name": "stdout",
                                                  "output_type": "stream",
                                                  "text": [
                                                            "Number of unique variables in Agency =  16\n",
                                                            "Number of unique variables in Agency Type =  2\n",
                                                            "Number of unique variables in Distribution Channel =  2\n",
                                                            "Number of unique variables in Product Name =  26\n",
                                                            "Number of unique variables in Claim =  2\n",
                                                            "Number of unique variables in Duration =  455\n",
                                                            "Number of unique variables in Destination =  149\n",
                                                            "Number of unique variables in Net Sales =  1139\n",
                                                            "Number of unique variables in Commission =  1035\n",
                                                            "Number of unique variables in Gender =  2\n",
                                                            "Number of unique variables in Age =  89\n"
                                                  ]
                                        }
                              ],
                              "source": [
                                        "# Unique variables\n",
                                        "print(\"Number of unique variables in Agency = \",len(df.Agency.value_counts()))\n",
                                        "print(\"Number of unique variables in Agency Type = \",len(df.AgencyType.value_counts()))\n",
                                        "print(\"Number of unique variables in Distribution Channel = \",len(df.DistributionChannel.value_counts()))\n",
                                        "print(\"Number of unique variables in Product Name = \",len(df.ProductName.value_counts()))\n",
                                        "print(\"Number of unique variables in Claim = \",len(df.Claim.value_counts()))\n",
                                        "print(\"Number of unique variables in Duration = \",len(df.Duration.value_counts()))\n",
                                        "print(\"Number of unique variables in Destination = \",len(df.Destination.value_counts()))\n",
                                        "print(\"Number of unique variables in Net Sales = \",len(df.NetSales.value_counts()))\n",
                                        "print(\"Number of unique variables in Commission = \",len(df.Commission.value_counts()))\n",
                                        "print(\"Number of unique variables in Gender = \",len(df.Gender.value_counts()))\n",
                                        "print(\"Number of unique variables in Age = \",len(df.Age.value_counts()))"
                              ]
                    },
                    {
                              "cell_type": "markdown",
                              "metadata": {},
                              "source": [
                                        "# Sprint 2: Statistical Test"
                              ]
                    },
                    {
                              "cell_type": "markdown",
                              "metadata": {},
                              "source": [
                                        "## Simple linear regression analysis"
                              ]
                    },
                    {
                              "cell_type": "markdown",
                              "metadata": {},
                              "source": [
                                        "### Relationship between Duration & Net Sales"
                              ]
                    },
                    {
                              "cell_type": "code",
                              "execution_count": 33,
                              "metadata": {},
                              "outputs": [
                                        {
                                                  "name": "stdout",
                                                  "output_type": "stream",
                                                  "text": [
                                                            "<class 'pandas.core.frame.DataFrame'>\n",
                                                            "RangeIndex: 63326 entries, 0 to 63325\n",
                                                            "Data columns (total 2 columns):\n",
                                                            " #   Column    Non-Null Count  Dtype  \n",
                                                            "---  ------    --------------  -----  \n",
                                                            " 0   Duration  63326 non-null  int64  \n",
                                                            " 1   NetSales  63326 non-null  float64\n",
                                                            "dtypes: float64(1), int64(1)\n",
                                                            "memory usage: 989.6 KB\n"
                                                  ]
                                        }
                              ],
                              "source": [
                                        "# Make a copy of data\n",
                                        "# Keep Duration & Net Sales only\n",
                                        "dftest1_features = ['Duration','NetSales']\n",
                                        "dftest1 = df[dftest1_features]\n",
                                        "\n",
                                        "# Check deleted columns\n",
                                        "dftest1.info()"
                              ]
                    },
                    {
                              "cell_type": "code",
                              "execution_count": 34,
                              "metadata": {},
                              "outputs": [
                                        {
                                                  "name": "stdout",
                                                  "output_type": "stream",
                                                  "text": [
                                                            "Estimated coefficients:\n",
                                                            "b_0 = 30.54406602637408            \n",
                                                            "b_1 = 0.2059723177332796\n"
                                                  ]
                                        },
                                        {
                                                  "data": {
                                                            "image/png": "[encoded data removed]",
                                                            "text/plain": [
                                                                      "<Figure size 432x288 with 1 Axes>"
                                                            ]
                                                  },
                                                  "metadata": {
                                                            "needs_background": "light"
                                                  },
                                                  "output_type": "display_data"
                                        },
                                        {
                                                  "data": {
                                                            "image/png": "[encoded data removed]",
                                                            "text/plain": [
                                                                      "<Figure size 432x288 with 1 Axes>"
                                                            ]
                                                  },
                                                  "metadata": {
                                                            "needs_background": "light"
                                                  },
                                                  "output_type": "display_data"
                                        }
                              ],
                              "source": [
                                        "def estimate_coef(x, y):\n",
                                        "    # number of observations/points\n",
                                        "    n = np.size(x)\n",
                                        "  \n",
                                        "    # mean of x and y vector\n",
                                        "    m_x = np.mean(x)\n",
                                        "    m_y = np.mean(y)\n",
                                        "  \n",
                                        "    # calculating cross-deviation and deviation about x\n",
                                        "    SS_xy = np.sum(y*x) - n*m_y*m_x\n",
                                        "    SS_xx = np.sum(x*x) - n*m_x*m_x\n",
                                        "  \n",
                                        "    # calculating regression coefficients\n",
                                        "    b_1 = SS_xy / SS_xx\n",
                                        "    b_0 = m_y - b_1*m_x\n",
                                        "  \n",
                                        "    return (b_0, b_1)\n",
                                        "  \n",
                                        "def plot_regression_line(x, y, b):\n",
                                        "    # plotting the actual points as scatter plot\n",
                                        "    plt.scatter(x, y, color = \"m\",\n",
                                        "               marker = \"o\", s = 30)\n",
                                        "  \n",
                                        "    # predicted response vector\n",
                                        "    y_pred = b[0] + b[1]*x\n",
                                        "  \n",
                                        "    # plotting the regression line\n",
                                        "    plt.plot(x, y_pred, color = \"r\")\n",
                                        "  \n",
                                        "    # putting labels\n",
                                        "    plt.xlabel(x.name)\n",
                                        "    plt.ylabel(y.name)\n",
                                        "  \n",
                                        "    # function to show plot\n",
                                        "    plt.show()\n",
                                        "\n",
                                        "def plot_residuals_against_fitted_values(x,y,b):\n",
                                        "    # predicted response vector\n",
                                        "    y_pred = b[0] + b[1]*x\n",
                                        "\n",
                                        "    # calculate residuals\n",
                                        "    residuals = y - y_pred\n",
                                        "    \n",
                                        "    # plotting the residuals against the fitted values as scatter plot\n",
                                        "    plt.scatter(y_pred, residuals, color = \"m\",\n",
                                        "               marker = \"o\", s = 30)\n",
                                        "\n",
                                        "    # putting labels\n",
                                        "    plt.xlabel('Fitted Values')\n",
                                        "    plt.ylabel('Residuaks')\n",
                                        "\n",
                                        "    #plot a straight line y=0\n",
                                        "    plt.axhline(y=0, color='r', linestyle='-')\n",
                                        "\n",
                                        "    # function to show plot\n",
                                        "    plt.show()\n",
                                        "  \n",
                                        "  \n",
                                        "def main():\n",
                                        "    # observations / data\n",
                                        "    x = dftest1['Duration']\n",
                                        "    y = dftest1['NetSales']\n",
                                        "  \n",
                                        "    # estimating coefficients\n",
                                        "    b = estimate_coef(x, y)\n",
                                        "    print(\"Estimated coefficients:\\nb_0 = {}  \\\n",
                                        "          \\nb_1 = {}\".format(b[0], b[1]))\n",
                                        "  \n",
                                        "    # plotting regression line\n",
                                        "    plot_regression_line(x, y, b)\n",
                                        "\n",
                                        "    # checking assumptions\n",
                                        "    plot_residuals_against_fitted_values(x,y,b)\n",
                                        "  \n",
                                        "if __name__ == \"__main__\":\n",
                                        "    main()"
                              ]
                    },
                    {
                              "cell_type": "markdown",
                              "metadata": {},
                              "source": [
                                        "There seems to be a weak positive correlation between duration and net sales if the outliers are ignored. The assumption that the residuals are normally distributted, independent and have a constant varience is checked."
                              ]
                    },
                    {
                              "cell_type": "markdown",
                              "metadata": {},
                              "source": [
                                        "## Multiple linear regression analysis"
                              ]
                    },
                    {
                              "cell_type": "markdown",
                              "metadata": {},
                              "source": [
                                        "### Relationship between Age & Duration & Net Sales"
                              ]
                    },
                    {
                              "cell_type": "code",
                              "execution_count": 38,
                              "metadata": {},
                              "outputs": [
                                        {
                                                  "data": {
                                                            "text/plain": [
                                                                      "Text(0.5, 0, 'Net Sales')"
                                                            ]
                                                  },
                                                  "execution_count": 38,
                                                  "metadata": {},
                                                  "output_type": "execute_result"
                                        },
                                        {
                                                  "data": {
                                                            "image/png": "[encoded data removed]",
                                                            "text/plain": [
                                                                      "<Figure size 432x288 with 1 Axes>"
                                                            ]
                                                  },
                                                  "metadata": {
                                                            "needs_background": "light"
                                                  },
                                                  "output_type": "display_data"
                                        }
                              ],
                              "source": [
                                        "from mpl_toolkits.mplot3d import Axes3D\n",
                                        "\n",
                                        "dftest2_features = ['Age','Duration']\n",
                                        "X = df[dftest2_features]\n",
                                        "y = df.NetSales\n",
                                        "\n",
                                        "fig = plt.figure()\n",
                                        "ax = fig.add_subplot(111,projection='3d')\n",
                                        "\n",
                                        "x1 = X['Age']\n",
                                        "x2 = X['Duration']\n",
                                        "\n",
                                        "ax.scatter(x1,x2,y,c='red',marker='o')\n",
                                        "\n",
                                        "ax.set_xlabel('Age')\n",
                                        "ax.set_ylabel('Duration')\n",
                                        "ax.set_zlabel('Net Sales')"
                              ]
                    },
                    {
                              "cell_type": "markdown",
                              "metadata": {},
                              "source": [
                                        "There seems to be no correletion between age and duration, while the relationship between age and net sales is random."
                              ]
                    },
                    {
                              "cell_type": "code",
                              "execution_count": 39,
                              "metadata": {},
                              "outputs": [
                                        {
                                                  "data": {
                                                            "text/plain": [
                                                                      "LinearRegression()"
                                                            ]
                                                  },
                                                  "execution_count": 39,
                                                  "metadata": {},
                                                  "output_type": "execute_result"
                                        }
                              ],
                              "source": [
                                        "from sklearn.linear_model import LinearRegression\n",
                                        "\n",
                                        "mlr_model = LinearRegression()\n",
                                        "mlr_model.fit(X,y)"
                              ]
                    },
                    {
                              "cell_type": "code",
                              "execution_count": 40,
                              "metadata": {},
                              "outputs": [
                                        {
                                                  "data": {
                                                            "text/plain": [
                                                                      "(25.4349084708817, 0.1278785007368896, 0.205928850934094)"
                                                            ]
                                                  },
                                                  "execution_count": 40,
                                                  "metadata": {},
                                                  "output_type": "execute_result"
                                        }
                              ],
                              "source": [
                                        "theta0 = mlr_model.intercept_\n",
                                        "theta1, theta2 = mlr_model.coef_\n",
                                        "theta0,theta1,theta2"
                              ]
                    },
                    {
                              "cell_type": "code",
                              "execution_count": 41,
                              "metadata": {},
                              "outputs": [
                                        {
                                                  "data": {
                                                            "text/plain": [
                                                                      "array([134.79325897])"
                                                            ]
                                                  },
                                                  "execution_count": 41,
                                                  "metadata": {},
                                                  "output_type": "execute_result"
                                        }
                              ],
                              "source": [
                                        "# Testing my prediction\n",
                                        "y_pred = mlr_model.predict([[50,500]])\n",
                                        "y_pred"
                              ]
                    }
          ],
          "metadata": {
                    "kernelspec": {
                              "display_name": "Python 3.8.8 ('base')",
                              "language": "python",
                              "name": "python3"
                    },
                    "language_info": {
                              "codemirror_mode": {
                                        "name": "ipython",
                                        "version": 3
                              },
                              "file_extension": ".py",
                              "mimetype": "text/x-python",
                              "name": "python",
                              "nbconvert_exporter": "python",
                              "pygments_lexer": "ipython3",
                              "version": "3.8.8"
                    },
                    "orig_nbformat": 4,
                    "vscode": {
                              "interpreter": {
                                        "hash": "6f5583cf1d9466b5c27e75c89cc6b383bed5736d6b16c51c8074d8690011a952"
                              }
                    }
          },
          "nbformat": 4,
          "nbformat_minor": 2
}
